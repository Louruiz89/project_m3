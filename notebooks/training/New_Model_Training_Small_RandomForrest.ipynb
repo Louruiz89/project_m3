{
 "cells": [
  {
   "cell_type": "code",
   "execution_count": 18,
   "id": "ebd751a4",
   "metadata": {},
   "outputs": [],
   "source": [
    "#importo las librerias necesarias\n",
    "\n",
    "import pandas as pd\n",
    "from sklearn.model_selection import train_test_split\n",
    "from sklearn.preprocessing import StandardScaler\n",
    "from sklearn.datasets import make_regression\n",
    "\n",
    "from sklearn.linear_model import LinearRegression\n",
    "from sklearn.svm import SVR\n",
    "from sklearn.linear_model import SGDRegressor\n",
    "from sklearn.ensemble import RandomForestRegressor\n",
    "\n",
    "from sklearn.metrics import mean_squared_error"
   ]
  },
  {
   "cell_type": "code",
   "execution_count": 19,
   "id": "9e63e1b9",
   "metadata": {},
   "outputs": [
    {
     "name": "stdout",
     "output_type": "stream",
     "text": [
      "<class 'pandas.core.frame.DataFrame'>\n",
      "RangeIndex: 40455 entries, 0 to 40454\n",
      "Data columns (total 32 columns):\n",
      " #   Column           Non-Null Count  Dtype  \n",
      "---  ------           --------------  -----  \n",
      " 0   price            40455 non-null  int64  \n",
      " 1   carat            40455 non-null  float64\n",
      " 2   depth            40455 non-null  float64\n",
      " 3   table            40455 non-null  float64\n",
      " 4   x                40455 non-null  float64\n",
      " 5   y                40455 non-null  float64\n",
      " 6   z                40455 non-null  float64\n",
      " 7   xy               40455 non-null  float64\n",
      " 8   xz               40455 non-null  float64\n",
      " 9   table_depth      40455 non-null  float64\n",
      " 10  carat/dimensons  40455 non-null  float64\n",
      " 11  volume           40455 non-null  float64\n",
      " 12  clarity_I1       40455 non-null  float64\n",
      " 13  clarity_IF       40455 non-null  float64\n",
      " 14  clarity_SI1      40455 non-null  float64\n",
      " 15  clarity_SI2      40455 non-null  float64\n",
      " 16  clarity_VS1      40455 non-null  float64\n",
      " 17  clarity_VS2      40455 non-null  float64\n",
      " 18  clarity_VVS1     40455 non-null  float64\n",
      " 19  clarity_VVS2     40455 non-null  float64\n",
      " 20  color_D          40455 non-null  float64\n",
      " 21  color_E          40455 non-null  float64\n",
      " 22  color_F          40455 non-null  float64\n",
      " 23  color_G          40455 non-null  float64\n",
      " 24  color_H          40455 non-null  float64\n",
      " 25  color_I          40455 non-null  float64\n",
      " 26  color_J          40455 non-null  float64\n",
      " 27  cut_Fair         40455 non-null  float64\n",
      " 28  cut_Good         40455 non-null  float64\n",
      " 29  cut_Ideal        40455 non-null  float64\n",
      " 30  cut_Premium      40455 non-null  float64\n",
      " 31  cut_Very Good    40455 non-null  float64\n",
      "dtypes: float64(31), int64(1)\n",
      "memory usage: 9.9 MB\n",
      "None\n",
      "<class 'pandas.core.frame.DataFrame'>\n",
      "RangeIndex: 13485 entries, 0 to 13484\n",
      "Data columns (total 31 columns):\n",
      " #   Column           Non-Null Count  Dtype  \n",
      "---  ------           --------------  -----  \n",
      " 0   carat            13485 non-null  float64\n",
      " 1   depth            13485 non-null  float64\n",
      " 2   table            13485 non-null  float64\n",
      " 3   x                13485 non-null  float64\n",
      " 4   y                13485 non-null  float64\n",
      " 5   z                13485 non-null  float64\n",
      " 6   xy               13485 non-null  float64\n",
      " 7   xz               13485 non-null  float64\n",
      " 8   table_depth      13485 non-null  float64\n",
      " 9   carat/dimensons  13485 non-null  float64\n",
      " 10  volume           13485 non-null  float64\n",
      " 11  clarity_I1       13485 non-null  float64\n",
      " 12  clarity_IF       13485 non-null  float64\n",
      " 13  clarity_SI1      13485 non-null  float64\n",
      " 14  clarity_SI2      13485 non-null  float64\n",
      " 15  clarity_VS1      13485 non-null  float64\n",
      " 16  clarity_VS2      13485 non-null  float64\n",
      " 17  clarity_VVS1     13485 non-null  float64\n",
      " 18  clarity_VVS2     13485 non-null  float64\n",
      " 19  color_D          13485 non-null  float64\n",
      " 20  color_E          13485 non-null  float64\n",
      " 21  color_F          13485 non-null  float64\n",
      " 22  color_G          13485 non-null  float64\n",
      " 23  color_H          13485 non-null  float64\n",
      " 24  color_I          13485 non-null  float64\n",
      " 25  color_J          13485 non-null  float64\n",
      " 26  cut_Fair         13485 non-null  float64\n",
      " 27  cut_Good         13485 non-null  float64\n",
      " 28  cut_Ideal        13485 non-null  float64\n",
      " 29  cut_Premium      13485 non-null  float64\n",
      " 30  cut_Very Good    13485 non-null  float64\n",
      "dtypes: float64(31)\n",
      "memory usage: 3.2 MB\n"
     ]
    }
   ],
   "source": [
    "#cargo el dataset de training y el de test\n",
    "\n",
    "df_training = pd.read_csv('./../data/training_new_preprocesing_small.csv')\n",
    "df_test = pd.read_csv('./../data/test_new_procesing_small.csv')\n",
    "print(df_training.info())\n",
    "df_test.info()"
   ]
  },
  {
   "cell_type": "code",
   "execution_count": 30,
   "id": "aa87a526",
   "metadata": {},
   "outputs": [
    {
     "name": "stdout",
     "output_type": "stream",
     "text": [
      "(40455, 31) (40455, 1)\n"
     ]
    }
   ],
   "source": [
    "# Features + target\n",
    "\n",
    "X = df_training[['carat',\n",
    "                    'depth',\n",
    "                    'table',\n",
    "                    'x',\n",
    "                    'y',\n",
    "                    'z',\n",
    "                    'xy',\n",
    "                    'xz',\n",
    "                    'table_depth',\n",
    "                    'carat/dimensons',\n",
    "                    'volume',\n",
    "                    'clarity_I1',\n",
    "                    'clarity_IF',\n",
    "                    'clarity_SI1',\n",
    "                    'clarity_SI2',\n",
    "                    'clarity_VS1',\n",
    "                    'clarity_VS2',\n",
    "                    'clarity_VVS1',\n",
    "                    'clarity_VVS2',\n",
    "                    'color_D',\n",
    "                    'color_E',\n",
    "                    'color_F',\n",
    "                    'color_G',\n",
    "                    'color_H',\n",
    "                    'color_I',\n",
    "                    'color_J',\n",
    "                    'cut_Fair',\n",
    "                    'cut_Good',\n",
    "                    'cut_Ideal',\n",
    "                    'cut_Premium',\n",
    "                    'cut_Very Good']]\n",
    "y = pd.get_dummies(df_training[['price']], drop_first=True)\n",
    "print(X.shape,y.shape)"
   ]
  },
  {
   "cell_type": "code",
   "execution_count": 31,
   "id": "4d0d7b17",
   "metadata": {},
   "outputs": [],
   "source": [
    "# Train + test\n",
    "\n",
    "X_train, X_test, y_train, y_test = train_test_split(X, y, test_size=0.2, random_state=42)"
   ]
  },
  {
   "cell_type": "code",
   "execution_count": 32,
   "id": "cc6d57f8",
   "metadata": {},
   "outputs": [
    {
     "data": {
      "text/plain": [
       "array([[ 0.44675086,  0.7281952 ,  0.24636806, ..., -0.81588703,\n",
       "        -0.58082301,  1.84804753],\n",
       "       [ 0.44675086,  0.79790014, -0.19907889, ..., -0.81588703,\n",
       "        -0.58082301,  1.84804753],\n",
       "       [-1.04622436, -0.94472332,  0.69181501, ..., -0.81588703,\n",
       "         1.72169487, -0.54111162],\n",
       "       ...,\n",
       "       [-0.60464014,  1.21612977, -0.64452584, ..., -0.81588703,\n",
       "        -0.58082301,  1.84804753],\n",
       "       [ 1.5401975 ,  0.10085075, -0.19907889, ...,  1.22565988,\n",
       "        -0.58082301, -0.54111162],\n",
       "       [-0.94108526, -0.10826406, -0.64452584, ...,  1.22565988,\n",
       "        -0.58082301, -0.54111162]])"
      ]
     },
     "execution_count": 32,
     "metadata": {},
     "output_type": "execute_result"
    }
   ],
   "source": [
    "# Scaling - StandardScaler\n",
    "scaler = StandardScaler()\n",
    "scaled_data = scaler.fit_transform(X_train)\n",
    "scaled_data_test = scaler.transform(X_test)\n",
    "scaled_data_test"
   ]
  },
  {
   "cell_type": "code",
   "execution_count": 33,
   "id": "748096c3",
   "metadata": {},
   "outputs": [],
   "source": [
    "regressor =  RandomForestRegressor()"
   ]
  },
  {
   "cell_type": "code",
   "execution_count": 34,
   "id": "eaed6f64",
   "metadata": {},
   "outputs": [],
   "source": [
    "hyperparameters = regressor.get_params()\n",
    "model = regressor.fit(X_train, y_train.values.ravel())"
   ]
  },
  {
   "cell_type": "code",
   "execution_count": 35,
   "id": "4c656046",
   "metadata": {
    "scrolled": true
   },
   "outputs": [
    {
     "name": "stdout",
     "output_type": "stream",
     "text": [
      "Model: RandomForestRegressor() \n",
      "\n",
      "Model hyperparameters: {'bootstrap': True, 'ccp_alpha': 0.0, 'criterion': 'squared_error', 'max_depth': None, 'max_features': 1.0, 'max_leaf_nodes': None, 'max_samples': None, 'min_impurity_decrease': 0.0, 'min_samples_leaf': 1, 'min_samples_split': 2, 'min_weight_fraction_leaf': 0.0, 'n_estimators': 100, 'n_jobs': None, 'oob_score': False, 'random_state': None, 'verbose': 0, 'warm_start': False} \n",
      "\n",
      "Predicted target: [ 4707.56  8940.65   903.69 ...  1793.56 13184.29   632.51] \n",
      "\n"
     ]
    }
   ],
   "source": [
    "y_pred = model.predict(X_test)\n",
    "\n",
    "print('Model:', regressor, '\\n')\n",
    "print('Model hyperparameters:', hyperparameters, '\\n')\n",
    "#print('Ground truth target:', y_test, '\\n')\n",
    "print('Predicted target:', y_pred, '\\n')"
   ]
  },
  {
   "cell_type": "code",
   "execution_count": 36,
   "id": "2e515145",
   "metadata": {},
   "outputs": [
    {
     "data": {
      "text/plain": [
       "(8091,)"
      ]
     },
     "execution_count": 36,
     "metadata": {},
     "output_type": "execute_result"
    }
   ],
   "source": [
    "y_pred.shape"
   ]
  },
  {
   "cell_type": "code",
   "execution_count": 37,
   "id": "a6786e1f",
   "metadata": {},
   "outputs": [
    {
     "data": {
      "text/plain": [
       "numpy.ndarray"
      ]
     },
     "execution_count": 37,
     "metadata": {},
     "output_type": "execute_result"
    }
   ],
   "source": [
    "type(y_pred)"
   ]
  },
  {
   "cell_type": "code",
   "execution_count": 38,
   "id": "77a3b541",
   "metadata": {},
   "outputs": [
    {
     "data": {
      "text/plain": [
       "0.981056350683129"
      ]
     },
     "execution_count": 38,
     "metadata": {},
     "output_type": "execute_result"
    }
   ],
   "source": [
    "r2_ = model.score(X_test, y_test)\n",
    "r2_"
   ]
  },
  {
   "cell_type": "code",
   "execution_count": 39,
   "id": "7bac53df",
   "metadata": {},
   "outputs": [],
   "source": [
    "y_test = model.predict(df_test)"
   ]
  },
  {
   "cell_type": "code",
   "execution_count": 40,
   "id": "00bbb4e9",
   "metadata": {},
   "outputs": [
    {
     "data": {
      "text/html": [
       "<div>\n",
       "<style scoped>\n",
       "    .dataframe tbody tr th:only-of-type {\n",
       "        vertical-align: middle;\n",
       "    }\n",
       "\n",
       "    .dataframe tbody tr th {\n",
       "        vertical-align: top;\n",
       "    }\n",
       "\n",
       "    .dataframe thead th {\n",
       "        text-align: right;\n",
       "    }\n",
       "</style>\n",
       "<table border=\"1\" class=\"dataframe\">\n",
       "  <thead>\n",
       "    <tr style=\"text-align: right;\">\n",
       "      <th></th>\n",
       "      <th>0</th>\n",
       "    </tr>\n",
       "  </thead>\n",
       "  <tbody>\n",
       "    <tr>\n",
       "      <th>0</th>\n",
       "      <td>2885.57</td>\n",
       "    </tr>\n",
       "    <tr>\n",
       "      <th>1</th>\n",
       "      <td>5521.77</td>\n",
       "    </tr>\n",
       "    <tr>\n",
       "      <th>2</th>\n",
       "      <td>9263.00</td>\n",
       "    </tr>\n",
       "    <tr>\n",
       "      <th>3</th>\n",
       "      <td>4049.87</td>\n",
       "    </tr>\n",
       "    <tr>\n",
       "      <th>4</th>\n",
       "      <td>1679.79</td>\n",
       "    </tr>\n",
       "    <tr>\n",
       "      <th>...</th>\n",
       "      <td>...</td>\n",
       "    </tr>\n",
       "    <tr>\n",
       "      <th>13480</th>\n",
       "      <td>1906.08</td>\n",
       "    </tr>\n",
       "    <tr>\n",
       "      <th>13481</th>\n",
       "      <td>2368.21</td>\n",
       "    </tr>\n",
       "    <tr>\n",
       "      <th>13482</th>\n",
       "      <td>2912.56</td>\n",
       "    </tr>\n",
       "    <tr>\n",
       "      <th>13483</th>\n",
       "      <td>2144.59</td>\n",
       "    </tr>\n",
       "    <tr>\n",
       "      <th>13484</th>\n",
       "      <td>840.36</td>\n",
       "    </tr>\n",
       "  </tbody>\n",
       "</table>\n",
       "<p>13485 rows × 1 columns</p>\n",
       "</div>"
      ],
      "text/plain": [
       "             0\n",
       "0      2885.57\n",
       "1      5521.77\n",
       "2      9263.00\n",
       "3      4049.87\n",
       "4      1679.79\n",
       "...        ...\n",
       "13480  1906.08\n",
       "13481  2368.21\n",
       "13482  2912.56\n",
       "13483  2144.59\n",
       "13484   840.36\n",
       "\n",
       "[13485 rows x 1 columns]"
      ]
     },
     "execution_count": 40,
     "metadata": {},
     "output_type": "execute_result"
    }
   ],
   "source": [
    "df_pred = pd.DataFrame(data=y_test)\n",
    "df_pred"
   ]
  },
  {
   "cell_type": "code",
   "execution_count": 41,
   "id": "6781e1fa",
   "metadata": {
    "scrolled": true
   },
   "outputs": [
    {
     "data": {
      "text/html": [
       "<div>\n",
       "<style scoped>\n",
       "    .dataframe tbody tr th:only-of-type {\n",
       "        vertical-align: middle;\n",
       "    }\n",
       "\n",
       "    .dataframe tbody tr th {\n",
       "        vertical-align: top;\n",
       "    }\n",
       "\n",
       "    .dataframe thead th {\n",
       "        text-align: right;\n",
       "    }\n",
       "</style>\n",
       "<table border=\"1\" class=\"dataframe\">\n",
       "  <thead>\n",
       "    <tr style=\"text-align: right;\">\n",
       "      <th></th>\n",
       "      <th>index</th>\n",
       "      <th>0</th>\n",
       "    </tr>\n",
       "  </thead>\n",
       "  <tbody>\n",
       "    <tr>\n",
       "      <th>0</th>\n",
       "      <td>0</td>\n",
       "      <td>2885.57</td>\n",
       "    </tr>\n",
       "    <tr>\n",
       "      <th>1</th>\n",
       "      <td>1</td>\n",
       "      <td>5521.77</td>\n",
       "    </tr>\n",
       "    <tr>\n",
       "      <th>2</th>\n",
       "      <td>2</td>\n",
       "      <td>9263.00</td>\n",
       "    </tr>\n",
       "    <tr>\n",
       "      <th>3</th>\n",
       "      <td>3</td>\n",
       "      <td>4049.87</td>\n",
       "    </tr>\n",
       "    <tr>\n",
       "      <th>4</th>\n",
       "      <td>4</td>\n",
       "      <td>1679.79</td>\n",
       "    </tr>\n",
       "    <tr>\n",
       "      <th>...</th>\n",
       "      <td>...</td>\n",
       "      <td>...</td>\n",
       "    </tr>\n",
       "    <tr>\n",
       "      <th>13480</th>\n",
       "      <td>13480</td>\n",
       "      <td>1906.08</td>\n",
       "    </tr>\n",
       "    <tr>\n",
       "      <th>13481</th>\n",
       "      <td>13481</td>\n",
       "      <td>2368.21</td>\n",
       "    </tr>\n",
       "    <tr>\n",
       "      <th>13482</th>\n",
       "      <td>13482</td>\n",
       "      <td>2912.56</td>\n",
       "    </tr>\n",
       "    <tr>\n",
       "      <th>13483</th>\n",
       "      <td>13483</td>\n",
       "      <td>2144.59</td>\n",
       "    </tr>\n",
       "    <tr>\n",
       "      <th>13484</th>\n",
       "      <td>13484</td>\n",
       "      <td>840.36</td>\n",
       "    </tr>\n",
       "  </tbody>\n",
       "</table>\n",
       "<p>13485 rows × 2 columns</p>\n",
       "</div>"
      ],
      "text/plain": [
       "       index        0\n",
       "0          0  2885.57\n",
       "1          1  5521.77\n",
       "2          2  9263.00\n",
       "3          3  4049.87\n",
       "4          4  1679.79\n",
       "...      ...      ...\n",
       "13480  13480  1906.08\n",
       "13481  13481  2368.21\n",
       "13482  13482  2912.56\n",
       "13483  13483  2144.59\n",
       "13484  13484   840.36\n",
       "\n",
       "[13485 rows x 2 columns]"
      ]
     },
     "execution_count": 41,
     "metadata": {},
     "output_type": "execute_result"
    }
   ],
   "source": [
    "df_pred = df_pred.reset_index()\n",
    "df_pred"
   ]
  },
  {
   "cell_type": "code",
   "execution_count": 42,
   "id": "087a3555",
   "metadata": {},
   "outputs": [
    {
     "data": {
      "text/html": [
       "<div>\n",
       "<style scoped>\n",
       "    .dataframe tbody tr th:only-of-type {\n",
       "        vertical-align: middle;\n",
       "    }\n",
       "\n",
       "    .dataframe tbody tr th {\n",
       "        vertical-align: top;\n",
       "    }\n",
       "\n",
       "    .dataframe thead th {\n",
       "        text-align: right;\n",
       "    }\n",
       "</style>\n",
       "<table border=\"1\" class=\"dataframe\">\n",
       "  <thead>\n",
       "    <tr style=\"text-align: right;\">\n",
       "      <th></th>\n",
       "      <th>id</th>\n",
       "      <th>0</th>\n",
       "    </tr>\n",
       "  </thead>\n",
       "  <tbody>\n",
       "    <tr>\n",
       "      <th>0</th>\n",
       "      <td>0</td>\n",
       "      <td>2885.57</td>\n",
       "    </tr>\n",
       "    <tr>\n",
       "      <th>1</th>\n",
       "      <td>1</td>\n",
       "      <td>5521.77</td>\n",
       "    </tr>\n",
       "    <tr>\n",
       "      <th>2</th>\n",
       "      <td>2</td>\n",
       "      <td>9263.00</td>\n",
       "    </tr>\n",
       "    <tr>\n",
       "      <th>3</th>\n",
       "      <td>3</td>\n",
       "      <td>4049.87</td>\n",
       "    </tr>\n",
       "    <tr>\n",
       "      <th>4</th>\n",
       "      <td>4</td>\n",
       "      <td>1679.79</td>\n",
       "    </tr>\n",
       "    <tr>\n",
       "      <th>...</th>\n",
       "      <td>...</td>\n",
       "      <td>...</td>\n",
       "    </tr>\n",
       "    <tr>\n",
       "      <th>13480</th>\n",
       "      <td>13480</td>\n",
       "      <td>1906.08</td>\n",
       "    </tr>\n",
       "    <tr>\n",
       "      <th>13481</th>\n",
       "      <td>13481</td>\n",
       "      <td>2368.21</td>\n",
       "    </tr>\n",
       "    <tr>\n",
       "      <th>13482</th>\n",
       "      <td>13482</td>\n",
       "      <td>2912.56</td>\n",
       "    </tr>\n",
       "    <tr>\n",
       "      <th>13483</th>\n",
       "      <td>13483</td>\n",
       "      <td>2144.59</td>\n",
       "    </tr>\n",
       "    <tr>\n",
       "      <th>13484</th>\n",
       "      <td>13484</td>\n",
       "      <td>840.36</td>\n",
       "    </tr>\n",
       "  </tbody>\n",
       "</table>\n",
       "<p>13485 rows × 2 columns</p>\n",
       "</div>"
      ],
      "text/plain": [
       "          id        0\n",
       "0          0  2885.57\n",
       "1          1  5521.77\n",
       "2          2  9263.00\n",
       "3          3  4049.87\n",
       "4          4  1679.79\n",
       "...      ...      ...\n",
       "13480  13480  1906.08\n",
       "13481  13481  2368.21\n",
       "13482  13482  2912.56\n",
       "13483  13483  2144.59\n",
       "13484  13484   840.36\n",
       "\n",
       "[13485 rows x 2 columns]"
      ]
     },
     "execution_count": 42,
     "metadata": {},
     "output_type": "execute_result"
    }
   ],
   "source": [
    "df_rename = df_pred.rename(columns={\"index\": \"id\", \"o\": \"price\"})\n",
    "df_rename"
   ]
  },
  {
   "cell_type": "code",
   "execution_count": 43,
   "id": "531ac0c3",
   "metadata": {},
   "outputs": [
    {
     "data": {
      "text/html": [
       "<div>\n",
       "<style scoped>\n",
       "    .dataframe tbody tr th:only-of-type {\n",
       "        vertical-align: middle;\n",
       "    }\n",
       "\n",
       "    .dataframe tbody tr th {\n",
       "        vertical-align: top;\n",
       "    }\n",
       "\n",
       "    .dataframe thead th {\n",
       "        text-align: right;\n",
       "    }\n",
       "</style>\n",
       "<table border=\"1\" class=\"dataframe\">\n",
       "  <thead>\n",
       "    <tr style=\"text-align: right;\">\n",
       "      <th></th>\n",
       "      <th>id</th>\n",
       "      <th>price</th>\n",
       "    </tr>\n",
       "  </thead>\n",
       "  <tbody>\n",
       "    <tr>\n",
       "      <th>0</th>\n",
       "      <td>0</td>\n",
       "      <td>2885.57</td>\n",
       "    </tr>\n",
       "    <tr>\n",
       "      <th>1</th>\n",
       "      <td>1</td>\n",
       "      <td>5521.77</td>\n",
       "    </tr>\n",
       "    <tr>\n",
       "      <th>2</th>\n",
       "      <td>2</td>\n",
       "      <td>9263.00</td>\n",
       "    </tr>\n",
       "    <tr>\n",
       "      <th>3</th>\n",
       "      <td>3</td>\n",
       "      <td>4049.87</td>\n",
       "    </tr>\n",
       "    <tr>\n",
       "      <th>4</th>\n",
       "      <td>4</td>\n",
       "      <td>1679.79</td>\n",
       "    </tr>\n",
       "    <tr>\n",
       "      <th>...</th>\n",
       "      <td>...</td>\n",
       "      <td>...</td>\n",
       "    </tr>\n",
       "    <tr>\n",
       "      <th>13480</th>\n",
       "      <td>13480</td>\n",
       "      <td>1906.08</td>\n",
       "    </tr>\n",
       "    <tr>\n",
       "      <th>13481</th>\n",
       "      <td>13481</td>\n",
       "      <td>2368.21</td>\n",
       "    </tr>\n",
       "    <tr>\n",
       "      <th>13482</th>\n",
       "      <td>13482</td>\n",
       "      <td>2912.56</td>\n",
       "    </tr>\n",
       "    <tr>\n",
       "      <th>13483</th>\n",
       "      <td>13483</td>\n",
       "      <td>2144.59</td>\n",
       "    </tr>\n",
       "    <tr>\n",
       "      <th>13484</th>\n",
       "      <td>13484</td>\n",
       "      <td>840.36</td>\n",
       "    </tr>\n",
       "  </tbody>\n",
       "</table>\n",
       "<p>13485 rows × 2 columns</p>\n",
       "</div>"
      ],
      "text/plain": [
       "          id    price\n",
       "0          0  2885.57\n",
       "1          1  5521.77\n",
       "2          2  9263.00\n",
       "3          3  4049.87\n",
       "4          4  1679.79\n",
       "...      ...      ...\n",
       "13480  13480  1906.08\n",
       "13481  13481  2368.21\n",
       "13482  13482  2912.56\n",
       "13483  13483  2144.59\n",
       "13484  13484   840.36\n",
       "\n",
       "[13485 rows x 2 columns]"
      ]
     },
     "execution_count": 43,
     "metadata": {},
     "output_type": "execute_result"
    }
   ],
   "source": [
    "final_prediction = df_rename.rename(columns={df_rename.columns[1]: \"price\" })\n",
    "final_prediction"
   ]
  },
  {
   "cell_type": "code",
   "execution_count": 44,
   "id": "6b9b5325",
   "metadata": {},
   "outputs": [],
   "source": [
    "export = final_prediction.to_csv('./../data/prediction_small_randomforrest.csv', index=False)"
   ]
  },
  {
   "cell_type": "code",
   "execution_count": null,
   "id": "220dcc51",
   "metadata": {},
   "outputs": [],
   "source": []
  },
  {
   "cell_type": "code",
   "execution_count": null,
   "id": "73613d9f",
   "metadata": {},
   "outputs": [],
   "source": []
  },
  {
   "cell_type": "code",
   "execution_count": null,
   "id": "43f431fa",
   "metadata": {},
   "outputs": [],
   "source": []
  }
 ],
 "metadata": {
  "kernelspec": {
   "display_name": "Python [conda env:project_new_env]",
   "language": "python",
   "name": "conda-env-project_new_env-py"
  },
  "language_info": {
   "codemirror_mode": {
    "name": "ipython",
    "version": 3
   },
   "file_extension": ".py",
   "mimetype": "text/x-python",
   "name": "python",
   "nbconvert_exporter": "python",
   "pygments_lexer": "ipython3",
   "version": "3.11.3"
  }
 },
 "nbformat": 4,
 "nbformat_minor": 5
}
