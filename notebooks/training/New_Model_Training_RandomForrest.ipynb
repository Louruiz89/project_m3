{
 "cells": [
  {
   "cell_type": "code",
   "execution_count": 39,
   "id": "ebd751a4",
   "metadata": {},
   "outputs": [],
   "source": [
    "#importo las librerias necesarias\n",
    "\n",
    "import pandas as pd\n",
    "from sklearn.model_selection import train_test_split\n",
    "from sklearn.preprocessing import RobustScaler\n",
    "from sklearn.datasets import make_regression\n",
    "from sklearn.ensemble import RandomForestRegressor\n",
    "from sklearn.model_selection import GridSearchCV\n",
    "\n",
    "from sklearn.metrics import mean_squared_error"
   ]
  },
  {
   "cell_type": "code",
   "execution_count": 40,
   "id": "9e63e1b9",
   "metadata": {},
   "outputs": [
    {
     "data": {
      "text/html": [
       "<div>\n",
       "<style scoped>\n",
       "    .dataframe tbody tr th:only-of-type {\n",
       "        vertical-align: middle;\n",
       "    }\n",
       "\n",
       "    .dataframe tbody tr th {\n",
       "        vertical-align: top;\n",
       "    }\n",
       "\n",
       "    .dataframe thead th {\n",
       "        text-align: right;\n",
       "    }\n",
       "</style>\n",
       "<table border=\"1\" class=\"dataframe\">\n",
       "  <thead>\n",
       "    <tr style=\"text-align: right;\">\n",
       "      <th></th>\n",
       "      <th>price</th>\n",
       "      <th>carat</th>\n",
       "      <th>depth</th>\n",
       "      <th>table</th>\n",
       "      <th>x</th>\n",
       "      <th>y</th>\n",
       "      <th>z</th>\n",
       "      <th>xy</th>\n",
       "      <th>xz</th>\n",
       "      <th>table_depth</th>\n",
       "      <th>...</th>\n",
       "      <th>color/weight_J</th>\n",
       "      <th>clarity/weight_I1</th>\n",
       "      <th>clarity/weight_IF</th>\n",
       "      <th>clarity/weight_SI1</th>\n",
       "      <th>clarity/weight_SI2</th>\n",
       "      <th>clarity/weight_VS1</th>\n",
       "      <th>clarity/weight_VS2</th>\n",
       "      <th>clarity/weight_VVS1</th>\n",
       "      <th>clarity/weight_VVS2</th>\n",
       "      <th>volume</th>\n",
       "    </tr>\n",
       "  </thead>\n",
       "  <tbody>\n",
       "    <tr>\n",
       "      <th>0</th>\n",
       "      <td>4268</td>\n",
       "      <td>1.21</td>\n",
       "      <td>62.4</td>\n",
       "      <td>58.0</td>\n",
       "      <td>6.83</td>\n",
       "      <td>6.79</td>\n",
       "      <td>4.25</td>\n",
       "      <td>1.005891</td>\n",
       "      <td>1.607059</td>\n",
       "      <td>0.929487</td>\n",
       "      <td>...</td>\n",
       "      <td>0.826446</td>\n",
       "      <td>0.0</td>\n",
       "      <td>0.0</td>\n",
       "      <td>0.0</td>\n",
       "      <td>0.0</td>\n",
       "      <td>0.0</td>\n",
       "      <td>0.826446</td>\n",
       "      <td>0.0</td>\n",
       "      <td>0.0</td>\n",
       "      <td>197.096725</td>\n",
       "    </tr>\n",
       "    <tr>\n",
       "      <th>1</th>\n",
       "      <td>3513</td>\n",
       "      <td>1.02</td>\n",
       "      <td>61.6</td>\n",
       "      <td>58.0</td>\n",
       "      <td>6.40</td>\n",
       "      <td>6.35</td>\n",
       "      <td>3.93</td>\n",
       "      <td>1.007874</td>\n",
       "      <td>1.628499</td>\n",
       "      <td>0.941558</td>\n",
       "      <td>...</td>\n",
       "      <td>0.980392</td>\n",
       "      <td>0.0</td>\n",
       "      <td>0.0</td>\n",
       "      <td>0.0</td>\n",
       "      <td>0.0</td>\n",
       "      <td>0.0</td>\n",
       "      <td>0.980392</td>\n",
       "      <td>0.0</td>\n",
       "      <td>0.0</td>\n",
       "      <td>159.715200</td>\n",
       "    </tr>\n",
       "    <tr>\n",
       "      <th>2</th>\n",
       "      <td>1792</td>\n",
       "      <td>0.77</td>\n",
       "      <td>62.3</td>\n",
       "      <td>58.0</td>\n",
       "      <td>5.86</td>\n",
       "      <td>5.80</td>\n",
       "      <td>3.63</td>\n",
       "      <td>1.010345</td>\n",
       "      <td>1.614325</td>\n",
       "      <td>0.930979</td>\n",
       "      <td>...</td>\n",
       "      <td>1.298701</td>\n",
       "      <td>0.0</td>\n",
       "      <td>0.0</td>\n",
       "      <td>0.0</td>\n",
       "      <td>0.0</td>\n",
       "      <td>0.0</td>\n",
       "      <td>1.298701</td>\n",
       "      <td>0.0</td>\n",
       "      <td>0.0</td>\n",
       "      <td>123.376440</td>\n",
       "    </tr>\n",
       "  </tbody>\n",
       "</table>\n",
       "<p>3 rows × 32 columns</p>\n",
       "</div>"
      ],
      "text/plain": [
       "   price  carat  depth  table     x     y     z        xy        xz   \n",
       "0   4268   1.21   62.4   58.0  6.83  6.79  4.25  1.005891  1.607059  \\\n",
       "1   3513   1.02   61.6   58.0  6.40  6.35  3.93  1.007874  1.628499   \n",
       "2   1792   0.77   62.3   58.0  5.86  5.80  3.63  1.010345  1.614325   \n",
       "\n",
       "   table_depth  ...  color/weight_J  clarity/weight_I1  clarity/weight_IF   \n",
       "0     0.929487  ...        0.826446                0.0                0.0  \\\n",
       "1     0.941558  ...        0.980392                0.0                0.0   \n",
       "2     0.930979  ...        1.298701                0.0                0.0   \n",
       "\n",
       "   clarity/weight_SI1  clarity/weight_SI2  clarity/weight_VS1   \n",
       "0                 0.0                 0.0                 0.0  \\\n",
       "1                 0.0                 0.0                 0.0   \n",
       "2                 0.0                 0.0                 0.0   \n",
       "\n",
       "   clarity/weight_VS2  clarity/weight_VVS1  clarity/weight_VVS2      volume  \n",
       "0            0.826446                  0.0                  0.0  197.096725  \n",
       "1            0.980392                  0.0                  0.0  159.715200  \n",
       "2            1.298701                  0.0                  0.0  123.376440  \n",
       "\n",
       "[3 rows x 32 columns]"
      ]
     },
     "execution_count": 40,
     "metadata": {},
     "output_type": "execute_result"
    }
   ],
   "source": [
    "#cargo el dataset de training y el de test\n",
    "\n",
    "df_training = pd.read_csv('./../data/training_new_preprocesing.csv')\n",
    "df_test = pd.read_csv('./../data/test_new_procesing.csv')\n",
    "df_training[:3]"
   ]
  },
  {
   "cell_type": "code",
   "execution_count": 41,
   "id": "aa87a526",
   "metadata": {},
   "outputs": [
    {
     "name": "stdout",
     "output_type": "stream",
     "text": [
      "(40455, 31) (40455, 1)\n"
     ]
    }
   ],
   "source": [
    "# Features + target\n",
    "\n",
    "X = df_training[['carat',\n",
    "                    'depth',\n",
    "                    'table',\n",
    "                    'x',\n",
    "                    'y',\n",
    "                    'z',\n",
    "                    'xy',\n",
    "                    'xz',\n",
    "                    'table_depth',\n",
    "                    'carat/dimensons',\n",
    "                    'cut/weight_Fair',\n",
    "                    'cut/weight_Good',\n",
    "                    'cut/weight_Ideal',\n",
    "                    'cut/weight_Premium',\n",
    "                    'cut/weight_Very Good',\n",
    "                    'color/weight_D',\n",
    "                    'color/weight_E',\n",
    "                    'color/weight_F',\n",
    "                    'color/weight_G',\n",
    "                    'color/weight_H',\n",
    "                    'color/weight_I',\n",
    "                    'color/weight_J',\n",
    "                    'clarity/weight_I1',\n",
    "                    'clarity/weight_IF',\n",
    "                    'clarity/weight_SI1',\n",
    "                    'clarity/weight_SI2',\n",
    "                    'clarity/weight_VS1',\n",
    "                    'clarity/weight_VS2',\n",
    "                    'clarity/weight_VVS1',\n",
    "                    'clarity/weight_VVS2',\n",
    "                    'volume']]\n",
    "y = pd.get_dummies(df_training[['price']], drop_first=True)\n",
    "print(X.shape,y.shape)"
   ]
  },
  {
   "cell_type": "code",
   "execution_count": 42,
   "id": "4d0d7b17",
   "metadata": {},
   "outputs": [],
   "source": [
    "# Train + test\n",
    "\n",
    "X_train, X_test, y_train, y_test = train_test_split(X, y, test_size=0.2, random_state=42)"
   ]
  },
  {
   "cell_type": "code",
   "execution_count": 43,
   "id": "cc6d57f8",
   "metadata": {},
   "outputs": [
    {
     "data": {
      "text/plain": [
       "array([[ 0.484375  ,  0.66666667,  0.33333333, ...,  0.        ,\n",
       "         0.        ,  0.45056277],\n",
       "       [ 0.484375  ,  0.73333333,  0.        , ...,  0.99009901,\n",
       "         0.        ,  0.45919957],\n",
       "       [-0.625     , -0.93333333,  0.66666667, ...,  0.        ,\n",
       "         0.        , -0.61810124],\n",
       "       ...,\n",
       "       [-0.296875  ,  1.13333333, -0.33333333, ...,  0.        ,\n",
       "         0.        , -0.30118618],\n",
       "       [ 1.296875  ,  0.06666667,  0.        , ...,  0.        ,\n",
       "         0.65359477,  1.25746608],\n",
       "       [-0.546875  , -0.13333333, -0.33333333, ...,  0.        ,\n",
       "         0.        , -0.54901957]])"
      ]
     },
     "execution_count": 43,
     "metadata": {},
     "output_type": "execute_result"
    }
   ],
   "source": [
    "# Scaling - StandardScaler\n",
    "scaler = RobustScaler()\n",
    "scaled_data = scaler.fit_transform(X_train)\n",
    "scaled_data_test = scaler.transform(X_test)\n",
    "scaled_data_test"
   ]
  },
  {
   "cell_type": "code",
   "execution_count": 44,
   "id": "748096c3",
   "metadata": {},
   "outputs": [],
   "source": [
    "regressor =  RandomForestRegressor()"
   ]
  },
  {
   "cell_type": "code",
   "execution_count": 45,
   "id": "eaed6f64",
   "metadata": {},
   "outputs": [],
   "source": [
    "hyperparameters = regressor.get_params()\n",
    "model = regressor.fit(X_train, y_train.values.ravel())"
   ]
  },
  {
   "cell_type": "code",
   "execution_count": 46,
   "id": "4c656046",
   "metadata": {
    "scrolled": true
   },
   "outputs": [
    {
     "name": "stdout",
     "output_type": "stream",
     "text": [
      "Model: RandomForestRegressor() \n",
      "\n",
      "Model hyperparameters: {'bootstrap': True, 'ccp_alpha': 0.0, 'criterion': 'squared_error', 'max_depth': None, 'max_features': 1.0, 'max_leaf_nodes': None, 'max_samples': None, 'min_impurity_decrease': 0.0, 'min_samples_leaf': 1, 'min_samples_split': 2, 'min_weight_fraction_leaf': 0.0, 'n_estimators': 100, 'n_jobs': None, 'oob_score': False, 'random_state': None, 'verbose': 0, 'warm_start': False} \n",
      "\n",
      "Predicted target: [ 4719.92  8969.04   902.79 ...  1780.32 13175.87   638.77] \n",
      "\n"
     ]
    }
   ],
   "source": [
    "y_pred = model.predict(X_test)\n",
    "\n",
    "print('Model:', regressor, '\\n')\n",
    "print('Model hyperparameters:', hyperparameters, '\\n')\n",
    "#print('Ground truth target:', y_test, '\\n')\n",
    "print('Predicted target:', y_pred, '\\n')"
   ]
  },
  {
   "cell_type": "code",
   "execution_count": 47,
   "id": "2e515145",
   "metadata": {},
   "outputs": [
    {
     "data": {
      "text/plain": [
       "(8091,)"
      ]
     },
     "execution_count": 47,
     "metadata": {},
     "output_type": "execute_result"
    }
   ],
   "source": [
    "y_pred.shape"
   ]
  },
  {
   "cell_type": "code",
   "execution_count": 48,
   "id": "a6786e1f",
   "metadata": {},
   "outputs": [
    {
     "data": {
      "text/plain": [
       "numpy.ndarray"
      ]
     },
     "execution_count": 48,
     "metadata": {},
     "output_type": "execute_result"
    }
   ],
   "source": [
    "type(y_pred)"
   ]
  },
  {
   "cell_type": "code",
   "execution_count": 49,
   "id": "77a3b541",
   "metadata": {},
   "outputs": [
    {
     "data": {
      "text/plain": [
       "0.9812595564443609"
      ]
     },
     "execution_count": 49,
     "metadata": {},
     "output_type": "execute_result"
    }
   ],
   "source": [
    "r2_ = model.score(X_test, y_test)\n",
    "r2_"
   ]
  },
  {
   "cell_type": "code",
   "execution_count": 50,
   "id": "665b5c54",
   "metadata": {},
   "outputs": [
    {
     "data": {
      "text/plain": [
       "545.9600963037153"
      ]
     },
     "execution_count": 50,
     "metadata": {},
     "output_type": "execute_result"
    }
   ],
   "source": [
    "rmse = mean_squared_error(y_test, y_pred)**0.5\n",
    "rmse"
   ]
  },
  {
   "cell_type": "code",
   "execution_count": 51,
   "id": "6b6a1192",
   "metadata": {},
   "outputs": [],
   "source": [
    "param_grid = {'n_estimators': [16, 32, 64, 128, 256, 512],\n",
    "              'max_depth': [2, 4, 8, 16]}"
   ]
  },
  {
   "cell_type": "code",
   "execution_count": 52,
   "id": "d5158bbf",
   "metadata": {},
   "outputs": [],
   "source": [
    "grid_search = GridSearchCV(model,\n",
    "                           param_grid,\n",
    "                           cv=5,\n",
    "                           verbose=3,\n",
    "                           scoring='neg_root_mean_squared_error',\n",
    "                           n_jobs=-1)"
   ]
  },
  {
   "cell_type": "code",
   "execution_count": 53,
   "id": "0f08a25d",
   "metadata": {},
   "outputs": [
    {
     "name": "stdout",
     "output_type": "stream",
     "text": [
      "Fitting 5 folds for each of 24 candidates, totalling 120 fits\n"
     ]
    },
    {
     "name": "stderr",
     "output_type": "stream",
     "text": [
      "C:\\Users\\lourdes.ruiz\\miniconda3\\envs\\project_new_env\\Lib\\site-packages\\sklearn\\model_selection\\_search.py:909: DataConversionWarning: A column-vector y was passed when a 1d array was expected. Please change the shape of y to (n_samples,), for example using ravel().\n",
      "  self.best_estimator_.fit(X, y, **fit_params)\n"
     ]
    },
    {
     "name": "stdout",
     "output_type": "stream",
     "text": [
      "\n",
      "\n",
      "Best hyperparameters:  {'max_depth': 16, 'n_estimators': 512} \n",
      "\n",
      "Best score:  643.498376299416 \n",
      "\n",
      "CPU times: total: 4min 46s\n",
      "Wall time: 34min 35s\n"
     ]
    }
   ],
   "source": [
    "%%time\n",
    "\n",
    "grid_search.fit(X,y)\n",
    "\n",
    "print('\\n')\n",
    "print('Best hyperparameters: ', grid_search.best_params_, '\\n')\n",
    "print('Best score: ', -grid_search.best_score_, '\\n')"
   ]
  },
  {
   "cell_type": "code",
   "execution_count": 54,
   "id": "c4f99645",
   "metadata": {},
   "outputs": [],
   "source": [
    "best_model = grid_search.best_estimator_"
   ]
  },
  {
   "cell_type": "code",
   "execution_count": 55,
   "id": "7bac53df",
   "metadata": {},
   "outputs": [],
   "source": [
    "y_test = best_model.predict(df_test)"
   ]
  },
  {
   "cell_type": "code",
   "execution_count": 56,
   "id": "00bbb4e9",
   "metadata": {},
   "outputs": [
    {
     "data": {
      "text/html": [
       "<div>\n",
       "<style scoped>\n",
       "    .dataframe tbody tr th:only-of-type {\n",
       "        vertical-align: middle;\n",
       "    }\n",
       "\n",
       "    .dataframe tbody tr th {\n",
       "        vertical-align: top;\n",
       "    }\n",
       "\n",
       "    .dataframe thead th {\n",
       "        text-align: right;\n",
       "    }\n",
       "</style>\n",
       "<table border=\"1\" class=\"dataframe\">\n",
       "  <thead>\n",
       "    <tr style=\"text-align: right;\">\n",
       "      <th></th>\n",
       "      <th>0</th>\n",
       "    </tr>\n",
       "  </thead>\n",
       "  <tbody>\n",
       "    <tr>\n",
       "      <th>0</th>\n",
       "      <td>3135.539174</td>\n",
       "    </tr>\n",
       "    <tr>\n",
       "      <th>1</th>\n",
       "      <td>5439.309358</td>\n",
       "    </tr>\n",
       "    <tr>\n",
       "      <th>2</th>\n",
       "      <td>9161.407612</td>\n",
       "    </tr>\n",
       "    <tr>\n",
       "      <th>3</th>\n",
       "      <td>4146.326190</td>\n",
       "    </tr>\n",
       "    <tr>\n",
       "      <th>4</th>\n",
       "      <td>1696.852676</td>\n",
       "    </tr>\n",
       "    <tr>\n",
       "      <th>...</th>\n",
       "      <td>...</td>\n",
       "    </tr>\n",
       "    <tr>\n",
       "      <th>13480</th>\n",
       "      <td>1864.231212</td>\n",
       "    </tr>\n",
       "    <tr>\n",
       "      <th>13481</th>\n",
       "      <td>2437.458371</td>\n",
       "    </tr>\n",
       "    <tr>\n",
       "      <th>13482</th>\n",
       "      <td>2996.295887</td>\n",
       "    </tr>\n",
       "    <tr>\n",
       "      <th>13483</th>\n",
       "      <td>2178.529684</td>\n",
       "    </tr>\n",
       "    <tr>\n",
       "      <th>13484</th>\n",
       "      <td>841.837531</td>\n",
       "    </tr>\n",
       "  </tbody>\n",
       "</table>\n",
       "<p>13485 rows × 1 columns</p>\n",
       "</div>"
      ],
      "text/plain": [
       "                 0\n",
       "0      3135.539174\n",
       "1      5439.309358\n",
       "2      9161.407612\n",
       "3      4146.326190\n",
       "4      1696.852676\n",
       "...            ...\n",
       "13480  1864.231212\n",
       "13481  2437.458371\n",
       "13482  2996.295887\n",
       "13483  2178.529684\n",
       "13484   841.837531\n",
       "\n",
       "[13485 rows x 1 columns]"
      ]
     },
     "execution_count": 56,
     "metadata": {},
     "output_type": "execute_result"
    }
   ],
   "source": [
    "df_pred = pd.DataFrame(data=y_test)\n",
    "df_pred"
   ]
  },
  {
   "cell_type": "code",
   "execution_count": 57,
   "id": "6781e1fa",
   "metadata": {
    "scrolled": true
   },
   "outputs": [
    {
     "data": {
      "text/html": [
       "<div>\n",
       "<style scoped>\n",
       "    .dataframe tbody tr th:only-of-type {\n",
       "        vertical-align: middle;\n",
       "    }\n",
       "\n",
       "    .dataframe tbody tr th {\n",
       "        vertical-align: top;\n",
       "    }\n",
       "\n",
       "    .dataframe thead th {\n",
       "        text-align: right;\n",
       "    }\n",
       "</style>\n",
       "<table border=\"1\" class=\"dataframe\">\n",
       "  <thead>\n",
       "    <tr style=\"text-align: right;\">\n",
       "      <th></th>\n",
       "      <th>index</th>\n",
       "      <th>0</th>\n",
       "    </tr>\n",
       "  </thead>\n",
       "  <tbody>\n",
       "    <tr>\n",
       "      <th>0</th>\n",
       "      <td>0</td>\n",
       "      <td>3135.539174</td>\n",
       "    </tr>\n",
       "    <tr>\n",
       "      <th>1</th>\n",
       "      <td>1</td>\n",
       "      <td>5439.309358</td>\n",
       "    </tr>\n",
       "    <tr>\n",
       "      <th>2</th>\n",
       "      <td>2</td>\n",
       "      <td>9161.407612</td>\n",
       "    </tr>\n",
       "    <tr>\n",
       "      <th>3</th>\n",
       "      <td>3</td>\n",
       "      <td>4146.326190</td>\n",
       "    </tr>\n",
       "    <tr>\n",
       "      <th>4</th>\n",
       "      <td>4</td>\n",
       "      <td>1696.852676</td>\n",
       "    </tr>\n",
       "    <tr>\n",
       "      <th>...</th>\n",
       "      <td>...</td>\n",
       "      <td>...</td>\n",
       "    </tr>\n",
       "    <tr>\n",
       "      <th>13480</th>\n",
       "      <td>13480</td>\n",
       "      <td>1864.231212</td>\n",
       "    </tr>\n",
       "    <tr>\n",
       "      <th>13481</th>\n",
       "      <td>13481</td>\n",
       "      <td>2437.458371</td>\n",
       "    </tr>\n",
       "    <tr>\n",
       "      <th>13482</th>\n",
       "      <td>13482</td>\n",
       "      <td>2996.295887</td>\n",
       "    </tr>\n",
       "    <tr>\n",
       "      <th>13483</th>\n",
       "      <td>13483</td>\n",
       "      <td>2178.529684</td>\n",
       "    </tr>\n",
       "    <tr>\n",
       "      <th>13484</th>\n",
       "      <td>13484</td>\n",
       "      <td>841.837531</td>\n",
       "    </tr>\n",
       "  </tbody>\n",
       "</table>\n",
       "<p>13485 rows × 2 columns</p>\n",
       "</div>"
      ],
      "text/plain": [
       "       index            0\n",
       "0          0  3135.539174\n",
       "1          1  5439.309358\n",
       "2          2  9161.407612\n",
       "3          3  4146.326190\n",
       "4          4  1696.852676\n",
       "...      ...          ...\n",
       "13480  13480  1864.231212\n",
       "13481  13481  2437.458371\n",
       "13482  13482  2996.295887\n",
       "13483  13483  2178.529684\n",
       "13484  13484   841.837531\n",
       "\n",
       "[13485 rows x 2 columns]"
      ]
     },
     "execution_count": 57,
     "metadata": {},
     "output_type": "execute_result"
    }
   ],
   "source": [
    "df_pred = df_pred.reset_index()\n",
    "df_pred"
   ]
  },
  {
   "cell_type": "code",
   "execution_count": 58,
   "id": "087a3555",
   "metadata": {},
   "outputs": [
    {
     "data": {
      "text/html": [
       "<div>\n",
       "<style scoped>\n",
       "    .dataframe tbody tr th:only-of-type {\n",
       "        vertical-align: middle;\n",
       "    }\n",
       "\n",
       "    .dataframe tbody tr th {\n",
       "        vertical-align: top;\n",
       "    }\n",
       "\n",
       "    .dataframe thead th {\n",
       "        text-align: right;\n",
       "    }\n",
       "</style>\n",
       "<table border=\"1\" class=\"dataframe\">\n",
       "  <thead>\n",
       "    <tr style=\"text-align: right;\">\n",
       "      <th></th>\n",
       "      <th>id</th>\n",
       "      <th>0</th>\n",
       "    </tr>\n",
       "  </thead>\n",
       "  <tbody>\n",
       "    <tr>\n",
       "      <th>0</th>\n",
       "      <td>0</td>\n",
       "      <td>3135.539174</td>\n",
       "    </tr>\n",
       "    <tr>\n",
       "      <th>1</th>\n",
       "      <td>1</td>\n",
       "      <td>5439.309358</td>\n",
       "    </tr>\n",
       "    <tr>\n",
       "      <th>2</th>\n",
       "      <td>2</td>\n",
       "      <td>9161.407612</td>\n",
       "    </tr>\n",
       "    <tr>\n",
       "      <th>3</th>\n",
       "      <td>3</td>\n",
       "      <td>4146.326190</td>\n",
       "    </tr>\n",
       "    <tr>\n",
       "      <th>4</th>\n",
       "      <td>4</td>\n",
       "      <td>1696.852676</td>\n",
       "    </tr>\n",
       "    <tr>\n",
       "      <th>...</th>\n",
       "      <td>...</td>\n",
       "      <td>...</td>\n",
       "    </tr>\n",
       "    <tr>\n",
       "      <th>13480</th>\n",
       "      <td>13480</td>\n",
       "      <td>1864.231212</td>\n",
       "    </tr>\n",
       "    <tr>\n",
       "      <th>13481</th>\n",
       "      <td>13481</td>\n",
       "      <td>2437.458371</td>\n",
       "    </tr>\n",
       "    <tr>\n",
       "      <th>13482</th>\n",
       "      <td>13482</td>\n",
       "      <td>2996.295887</td>\n",
       "    </tr>\n",
       "    <tr>\n",
       "      <th>13483</th>\n",
       "      <td>13483</td>\n",
       "      <td>2178.529684</td>\n",
       "    </tr>\n",
       "    <tr>\n",
       "      <th>13484</th>\n",
       "      <td>13484</td>\n",
       "      <td>841.837531</td>\n",
       "    </tr>\n",
       "  </tbody>\n",
       "</table>\n",
       "<p>13485 rows × 2 columns</p>\n",
       "</div>"
      ],
      "text/plain": [
       "          id            0\n",
       "0          0  3135.539174\n",
       "1          1  5439.309358\n",
       "2          2  9161.407612\n",
       "3          3  4146.326190\n",
       "4          4  1696.852676\n",
       "...      ...          ...\n",
       "13480  13480  1864.231212\n",
       "13481  13481  2437.458371\n",
       "13482  13482  2996.295887\n",
       "13483  13483  2178.529684\n",
       "13484  13484   841.837531\n",
       "\n",
       "[13485 rows x 2 columns]"
      ]
     },
     "execution_count": 58,
     "metadata": {},
     "output_type": "execute_result"
    }
   ],
   "source": [
    "df_rename = df_pred.rename(columns={\"index\": \"id\", \"o\": \"price\"})\n",
    "df_rename"
   ]
  },
  {
   "cell_type": "code",
   "execution_count": 59,
   "id": "531ac0c3",
   "metadata": {},
   "outputs": [
    {
     "data": {
      "text/html": [
       "<div>\n",
       "<style scoped>\n",
       "    .dataframe tbody tr th:only-of-type {\n",
       "        vertical-align: middle;\n",
       "    }\n",
       "\n",
       "    .dataframe tbody tr th {\n",
       "        vertical-align: top;\n",
       "    }\n",
       "\n",
       "    .dataframe thead th {\n",
       "        text-align: right;\n",
       "    }\n",
       "</style>\n",
       "<table border=\"1\" class=\"dataframe\">\n",
       "  <thead>\n",
       "    <tr style=\"text-align: right;\">\n",
       "      <th></th>\n",
       "      <th>id</th>\n",
       "      <th>price</th>\n",
       "    </tr>\n",
       "  </thead>\n",
       "  <tbody>\n",
       "    <tr>\n",
       "      <th>0</th>\n",
       "      <td>0</td>\n",
       "      <td>3135.539174</td>\n",
       "    </tr>\n",
       "    <tr>\n",
       "      <th>1</th>\n",
       "      <td>1</td>\n",
       "      <td>5439.309358</td>\n",
       "    </tr>\n",
       "    <tr>\n",
       "      <th>2</th>\n",
       "      <td>2</td>\n",
       "      <td>9161.407612</td>\n",
       "    </tr>\n",
       "    <tr>\n",
       "      <th>3</th>\n",
       "      <td>3</td>\n",
       "      <td>4146.326190</td>\n",
       "    </tr>\n",
       "    <tr>\n",
       "      <th>4</th>\n",
       "      <td>4</td>\n",
       "      <td>1696.852676</td>\n",
       "    </tr>\n",
       "    <tr>\n",
       "      <th>...</th>\n",
       "      <td>...</td>\n",
       "      <td>...</td>\n",
       "    </tr>\n",
       "    <tr>\n",
       "      <th>13480</th>\n",
       "      <td>13480</td>\n",
       "      <td>1864.231212</td>\n",
       "    </tr>\n",
       "    <tr>\n",
       "      <th>13481</th>\n",
       "      <td>13481</td>\n",
       "      <td>2437.458371</td>\n",
       "    </tr>\n",
       "    <tr>\n",
       "      <th>13482</th>\n",
       "      <td>13482</td>\n",
       "      <td>2996.295887</td>\n",
       "    </tr>\n",
       "    <tr>\n",
       "      <th>13483</th>\n",
       "      <td>13483</td>\n",
       "      <td>2178.529684</td>\n",
       "    </tr>\n",
       "    <tr>\n",
       "      <th>13484</th>\n",
       "      <td>13484</td>\n",
       "      <td>841.837531</td>\n",
       "    </tr>\n",
       "  </tbody>\n",
       "</table>\n",
       "<p>13485 rows × 2 columns</p>\n",
       "</div>"
      ],
      "text/plain": [
       "          id        price\n",
       "0          0  3135.539174\n",
       "1          1  5439.309358\n",
       "2          2  9161.407612\n",
       "3          3  4146.326190\n",
       "4          4  1696.852676\n",
       "...      ...          ...\n",
       "13480  13480  1864.231212\n",
       "13481  13481  2437.458371\n",
       "13482  13482  2996.295887\n",
       "13483  13483  2178.529684\n",
       "13484  13484   841.837531\n",
       "\n",
       "[13485 rows x 2 columns]"
      ]
     },
     "execution_count": 59,
     "metadata": {},
     "output_type": "execute_result"
    }
   ],
   "source": [
    "final_prediction = df_rename.rename(columns={df_rename.columns[1]: \"price\" })\n",
    "final_prediction"
   ]
  },
  {
   "cell_type": "code",
   "execution_count": 60,
   "id": "6b9b5325",
   "metadata": {},
   "outputs": [],
   "source": [
    "export = final_prediction.to_csv('./../data/prediction_RandomForrest.csv', index=False)"
   ]
  },
  {
   "cell_type": "code",
   "execution_count": 61,
   "id": "220dcc51",
   "metadata": {},
   "outputs": [
    {
     "data": {
      "text/html": [
       "<div>\n",
       "<style scoped>\n",
       "    .dataframe tbody tr th:only-of-type {\n",
       "        vertical-align: middle;\n",
       "    }\n",
       "\n",
       "    .dataframe tbody tr th {\n",
       "        vertical-align: top;\n",
       "    }\n",
       "\n",
       "    .dataframe thead th {\n",
       "        text-align: right;\n",
       "    }\n",
       "</style>\n",
       "<table border=\"1\" class=\"dataframe\">\n",
       "  <thead>\n",
       "    <tr style=\"text-align: right;\">\n",
       "      <th></th>\n",
       "      <th>id</th>\n",
       "      <th>price</th>\n",
       "    </tr>\n",
       "  </thead>\n",
       "  <tbody>\n",
       "    <tr>\n",
       "      <th>0</th>\n",
       "      <td>0</td>\n",
       "      <td>3135.539174</td>\n",
       "    </tr>\n",
       "    <tr>\n",
       "      <th>1</th>\n",
       "      <td>1</td>\n",
       "      <td>5439.309358</td>\n",
       "    </tr>\n",
       "    <tr>\n",
       "      <th>2</th>\n",
       "      <td>2</td>\n",
       "      <td>9161.407612</td>\n",
       "    </tr>\n",
       "    <tr>\n",
       "      <th>3</th>\n",
       "      <td>3</td>\n",
       "      <td>4146.326190</td>\n",
       "    </tr>\n",
       "    <tr>\n",
       "      <th>4</th>\n",
       "      <td>4</td>\n",
       "      <td>1696.852676</td>\n",
       "    </tr>\n",
       "  </tbody>\n",
       "</table>\n",
       "</div>"
      ],
      "text/plain": [
       "   id        price\n",
       "0   0  3135.539174\n",
       "1   1  5439.309358\n",
       "2   2  9161.407612\n",
       "3   3  4146.326190\n",
       "4   4  1696.852676"
      ]
     },
     "execution_count": 61,
     "metadata": {},
     "output_type": "execute_result"
    }
   ],
   "source": [
    "pd.read_csv('./../data/prediction_RandomForrest.csv').head()"
   ]
  },
  {
   "cell_type": "code",
   "execution_count": null,
   "id": "73613d9f",
   "metadata": {},
   "outputs": [],
   "source": []
  },
  {
   "cell_type": "code",
   "execution_count": null,
   "id": "43f431fa",
   "metadata": {},
   "outputs": [],
   "source": []
  }
 ],
 "metadata": {
  "kernelspec": {
   "display_name": "Python [conda env:project_new_env]",
   "language": "python",
   "name": "conda-env-project_new_env-py"
  },
  "language_info": {
   "codemirror_mode": {
    "name": "ipython",
    "version": 3
   },
   "file_extension": ".py",
   "mimetype": "text/x-python",
   "name": "python",
   "nbconvert_exporter": "python",
   "pygments_lexer": "ipython3",
   "version": "3.11.3"
  }
 },
 "nbformat": 4,
 "nbformat_minor": 5
}
